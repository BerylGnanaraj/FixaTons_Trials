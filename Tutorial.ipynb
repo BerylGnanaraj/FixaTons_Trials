{
 "cells": [
  {
   "cell_type": "markdown",
   "metadata": {},
   "source": [
    "# Tutorial: How To Use FixaTons\n",
    "FixaTons is a collection of publicly available datasets of human fixations.\n",
    "It includes only those dataset which provide temporal information about scanpaths (and not only saliency or fixation maps)."
   ]
  },
  {
   "cell_type": "markdown",
   "metadata": {},
   "source": [
    "To use the functions provided with the dataset it is sufficient to import the library inside the code in this way"
   ]
  },
  {
   "cell_type": "code",
   "execution_count": 1,
   "metadata": {},
   "outputs": [],
   "source": [
    "import FixaTons"
   ]
  },
  {
   "cell_type": "markdown",
   "metadata": {},
   "source": [
    "This library includes function to assolve basically four different kind of operations:\n",
    "    - list informations about the dataset\n",
    "    - get data (in numpy matrix form)\n",
    "    - visualize data\n",
    "    - compute metrics (for saliency and scanpath similarity)"
   ]
  },
  {
   "cell_type": "markdown",
   "metadata": {},
   "source": [
    "## List informations about the dataset"
   ]
  },
  {
   "cell_type": "markdown",
   "metadata": {},
   "source": [
    "The collection comprehend different dataset, each of them with different pictures, subjects,etc.  Provided software allows to easily get this kind of information in form of list of strings."
   ]
  },
  {
   "cell_type": "code",
   "execution_count": 2,
   "metadata": {},
   "outputs": [
    {
     "data": {
      "text/plain": [
       "['SIENA12', 'MIT1003']"
      ]
     },
     "execution_count": 2,
     "metadata": {},
     "output_type": "execute_result"
    }
   ],
   "source": [
    "FixaTons.list.datasets()"
   ]
  },
  {
   "cell_type": "code",
   "execution_count": 3,
   "metadata": {},
   "outputs": [
    {
     "data": {
      "text/plain": [
       "['relief.jpg',\n",
       " 'empty.jpg',\n",
       " 'missing_circle.jpg',\n",
       " 'plants.jpg',\n",
       " 'roof_of_flowers.jpg',\n",
       " 'desert.jpg',\n",
       " 'land.jpg',\n",
       " 'moon.jpg',\n",
       " 'building.jpg',\n",
       " 'randomness.jpg',\n",
       " 'wall_of_padlocks.jpg',\n",
       " 'sunset.jpg']"
      ]
     },
     "execution_count": 3,
     "metadata": {},
     "output_type": "execute_result"
    }
   ],
   "source": [
    "FixaTons.list.stimuli('SIENA12')"
   ]
  },
  {
   "cell_type": "code",
   "execution_count": 4,
   "metadata": {},
   "outputs": [
    {
     "data": {
      "text/plain": [
       "['DG_04112016',\n",
       " 'AR_06102016',\n",
       " 'FR_04092016',\n",
       " 'SB_10022017',\n",
       " 'VN_07102016',\n",
       " 'IT_10022017',\n",
       " 'AV_10022017',\n",
       " 'VU_10022017',\n",
       " 'FN_10022017',\n",
       " 'FG_20102016',\n",
       " 'TC_06102016',\n",
       " 'MB_20102016',\n",
       " 'MA_08112016',\n",
       " 'AZ_20102016',\n",
       " 'AR_10022017',\n",
       " 'GT_10022017',\n",
       " 'GG_10022017',\n",
       " 'VL_20102016',\n",
       " 'SU_20102016',\n",
       " 'FR_14092016',\n",
       " 'KM_07102016',\n",
       " 'MH_20102016',\n",
       " 'DB_10022017']"
      ]
     },
     "execution_count": 4,
     "metadata": {},
     "output_type": "execute_result"
    }
   ],
   "source": [
    "FixaTons.list.subjects('SIENA12', 'land.jpg')"
   ]
  },
  {
   "cell_type": "markdown",
   "metadata": {},
   "source": [
    "### Get data (in numpy matrix form)\n",
    "Some other functions allows to get specific data in form of numpy matrix. For example we can define some constant strings"
   ]
  },
  {
   "cell_type": "code",
   "execution_count": 5,
   "metadata": {},
   "outputs": [],
   "source": [
    "DATASET_NAME = 'SIENA12'\n",
    "STIMULUS_NAME = 'land.jpg'\n",
    "SUBJECT_ID = 'GT_10022017'"
   ]
  },
  {
   "cell_type": "markdown",
   "metadata": {},
   "source": [
    "and then get all possible data associated to them:"
   ]
  },
  {
   "cell_type": "code",
   "execution_count": 6,
   "metadata": {},
   "outputs": [],
   "source": [
    "stimulus_matrix = FixaTons.get.stimulus(DATASET_NAME, STIMULUS_NAME)\n",
    "saliency_map_matrix = FixaTons.get.saliency_map(DATASET_NAME, STIMULUS_NAME)\n",
    "fixation_map_matrix = FixaTons.get.fixation_map(DATASET_NAME, STIMULUS_NAME)"
   ]
  },
  {
   "cell_type": "markdown",
   "metadata": {},
   "source": [
    "Please note that, while stimulus is always a 3d-matrix (it includes channels of color, even in the case of black and white pictures)"
   ]
  },
  {
   "cell_type": "code",
   "execution_count": 7,
   "metadata": {},
   "outputs": [
    {
     "name": "stdout",
     "output_type": "stream",
     "text": [
      "Stimulus dims =  (768, 1024, 3)\n"
     ]
    }
   ],
   "source": [
    "print 'Stimulus dims = ', stimulus_matrix.shape"
   ]
  },
  {
   "cell_type": "markdown",
   "metadata": {},
   "source": [
    "saliency maps and fixation maps are always 2d-matrices"
   ]
  },
  {
   "cell_type": "code",
   "execution_count": 8,
   "metadata": {},
   "outputs": [
    {
     "name": "stdout",
     "output_type": "stream",
     "text": [
      "Saliency map dims = (768, 1024)\n",
      "Fixation map dims = (768, 1024)\n"
     ]
    }
   ],
   "source": [
    "print 'Saliency map dims =', saliency_map_matrix.shape\n",
    "print 'Fixation map dims =', fixation_map_matrix.shape"
   ]
  },
  {
   "cell_type": "markdown",
   "metadata": {},
   "source": [
    "It is also possible to get scanpaths (temporal sequance of fixations). In this case it is necessary to specify the id of the specif subject"
   ]
  },
  {
   "cell_type": "code",
   "execution_count": 9,
   "metadata": {},
   "outputs": [
    {
     "name": "stdout",
     "output_type": "stream",
     "text": [
      "[[  5.04000000e+02   3.64000000e+02   4.00000000e-03   4.60000000e-02]\n",
      " [  5.08000000e+02   3.64000000e+02   1.08000000e-01   1.92000000e-01]\n",
      " [  6.06000000e+02   2.43000000e+02   4.58000000e-01   5.21000000e-01]\n",
      " [  6.34000000e+02   3.80000000e+01   6.37000000e-01   8.00000000e-01]\n",
      " [  9.01000000e+02   2.32000000e+02   1.74600000e+00   1.80800000e+00]\n",
      " [  7.08000000e+02   3.20000000e+02   2.80000000e+00   2.85000000e+00]\n",
      " [  7.04000000e+02   3.16000000e+02   3.00800000e+00   3.08300000e+00]\n",
      " [  7.04000000e+02   3.10000000e+02   3.13300000e+00   3.21700000e+00]\n",
      " [  3.03000000e+02   2.98000000e+02   3.42500000e+00   3.48700000e+00]\n",
      " [  3.07000000e+02   2.91000000e+02   3.63300000e+00   3.72500000e+00]\n",
      " [  7.62000000e+02   3.90000000e+02   3.86200000e+00   3.94200000e+00]\n",
      " [  7.56000000e+02   3.93000000e+02   4.05000000e+00   4.12500000e+00]\n",
      " [  9.01000000e+02   2.40000000e+02   4.24200000e+00   4.38800000e+00]\n",
      " [  9.01000000e+02   2.43000000e+02   4.43800000e+00   4.55000000e+00]\n",
      " [  8.97000000e+02   2.36000000e+02   4.76700000e+00   4.84600000e+00]]\n"
     ]
    }
   ],
   "source": [
    "scanpath = FixaTons.get.scanpath(DATASET_NAME, STIMULUS_NAME, subject = SUBJECT_ID)\n",
    "print scanpath"
   ]
  },
  {
   "cell_type": "markdown",
   "metadata": {},
   "source": [
    "Scanpaths have different lengths that depend strongly on the time of exposition of the subject to the stimulus, which differs a lot between datasets. Consider that, humans perform in average 3/4 fixations per seconds. See main report for more details."
   ]
  },
  {
   "cell_type": "code",
   "execution_count": 10,
   "metadata": {},
   "outputs": [
    {
     "name": "stdout",
     "output_type": "stream",
     "text": [
      "This scanpath has 15 fixations.\n"
     ]
    }
   ],
   "source": [
    "print 'This scanpath has', len(scanpath), 'fixations.'"
   ]
  },
  {
   "cell_type": "markdown",
   "metadata": {},
   "source": [
    "It is also possible to get a random scanpath by leaving subject argument unspecified"
   ]
  },
  {
   "cell_type": "code",
   "execution_count": 11,
   "metadata": {},
   "outputs": [
    {
     "name": "stdout",
     "output_type": "stream",
     "text": [
      "This other scanpath has 15 fixations, instead.\n"
     ]
    }
   ],
   "source": [
    "scanpath = FixaTons.get.scanpath(DATASET_NAME, STIMULUS_NAME)\n",
    "print 'This other scanpath has', len(scanpath), 'fixations, instead.'"
   ]
  },
  {
   "cell_type": "markdown",
   "metadata": {},
   "source": [
    "### Visualize data"
   ]
  },
  {
   "cell_type": "markdown",
   "metadata": {},
   "source": [
    "Two functions are also include to an easy visualization of the data. In particular, one of them allows to visualize maps alongside the stimulus"
   ]
  },
  {
   "cell_type": "code",
   "execution_count": 12,
   "metadata": {},
   "outputs": [],
   "source": [
    "FixaTons.show.map(DATASET_NAME, STIMULUS_NAME, \n",
    "                  showSalMap = True, showFixMap = False,\n",
    "                  wait_time=5000, plotMaxDim = 1024)"
   ]
  },
  {
   "cell_type": "markdown",
   "metadata": {},
   "source": [
    "This functions uses cv2 standard library to visualize a specified stimulus.  By default, stimulus is shown with itssaliency map aside.  It is possible to deactivate such option by setting the additional argument showSalMap=False.  It is possible to show also (or alternatively) the fixation map by setting the additional argument showFixMap=True.\n",
    "\n",
    "Depending on the monitor  or  the  image  dimensions,  it  could  be  convenient  to  resize  the  images  before  to  plot  them.   In  such  a  case,  user  could  indicate  in  the  additional  argument plotMaxDim=1024 to set, for example, the maximum dimension to 1024.\n",
    "\n",
    "By default, images are not resized. By default, plot lasts only five seconds. This time can be modified passing a different time in the argument wait_time. If 0 is passed, plot lasts until a key is pressed.\n",
    "\n",
    "To observe a single scanpath, the following function"
   ]
  },
  {
   "cell_type": "code",
   "execution_count": 13,
   "metadata": {},
   "outputs": [],
   "source": [
    "FixaTons.show.scanpath(DATASET_NAME, STIMULUS_NAME, subject= SUBJECT_ID, \n",
    "                       animation = True, wait_time = 0, \n",
    "                       putLines = True, putNumbers = True, \n",
    "                       plotMaxDim = 1024)"
   ]
  },
  {
   "cell_type": "markdown",
   "metadata": {},
   "source": [
    "uses the cv2 standard library.  If no subject is specified, the functions randomly select a scanpath to show. \n",
    "\n",
    "By default, fixations are plotted as an animation. It is possible to deactivate this option by setting the argument animation=False. Also, ordinal numbers are plotted on fixations and lines between successive fixations are drawn.\n",
    "\n",
    "Depending on the monitor or the image dimensions, it could be convenient to resizethe images before to plot them.  In such a case, user could indicate in the additionalargument plotMaxDim=1024 to set, for example, the maximum dimension to 1024.  Bydefault, images are not resized."
   ]
  },
  {
   "cell_type": "markdown",
   "metadata": {},
   "source": [
    "### Compute metrics"
   ]
  },
  {
   "cell_type": "markdown",
   "metadata": {},
   "source": [
    "An implementation of the most common metrics to compute saliency maps similarity andscanpaths similarity is included in the software provided with FixaTons."
   ]
  },
  {
   "cell_type": "markdown",
   "metadata": {},
   "source": [
    "Saliency Map similarities:\n",
    "\n",
    "    –  FixaTons.metrics.KLdiv(saliencyMap, fixationMap)\n",
    "    –  FixaTons.metrics.AUCJudd(saliencyMap, fixationMap, jitter = True,toPlot = False)\n",
    "    –  FixaTons.metrics.NSS(saliencyMap, fixationMap)"
   ]
  },
  {
   "cell_type": "markdown",
   "metadata": {},
   "source": [
    "Scanpaths similarities:\n",
    "\n",
    "    –  FixaTons.metrics.euclideandistance(humanscanpath, simulatedscanpath)\n",
    "    –  FixaTons.metrics.stringeditdistance(stimulus, humanscanpath, sim-ulatedscanpath, n = 5, substitutioncost=1)\n",
    "    –  FixaTons.metrics.timedelayembeddingdistance( humanscanpath, sim-ulatedscanpath, k = 3, distancemode = ’Mean’)\n",
    "    –  FixaTons.metrics.scaledtimedelayembeddingdistance( humanscanpath,simulatedscanpath, image, toPlot = False))"
   ]
  },
  {
   "cell_type": "markdown",
   "metadata": {},
   "source": [
    "More details about this metrics are given in the main report."
   ]
  }
 ],
 "metadata": {
  "kernelspec": {
   "display_name": "Python 2",
   "language": "python",
   "name": "python2"
  },
  "language_info": {
   "codemirror_mode": {
    "name": "ipython",
    "version": 2
   },
   "file_extension": ".py",
   "mimetype": "text/x-python",
   "name": "python",
   "nbconvert_exporter": "python",
   "pygments_lexer": "ipython2",
   "version": "2.7.12"
  }
 },
 "nbformat": 4,
 "nbformat_minor": 2
}
